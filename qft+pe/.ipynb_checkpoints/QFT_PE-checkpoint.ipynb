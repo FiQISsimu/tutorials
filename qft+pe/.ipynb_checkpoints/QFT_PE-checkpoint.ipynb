{
 "cells": [
  {
   "cell_type": "code",
   "execution_count": null,
   "id": "warming-fleece",
   "metadata": {},
   "outputs": [],
   "source": [
    "# install Yao/YaoPlots via \n",
    "#     using Pkg\n",
    "#     Pkg.add(\"Yao\")\n",
    "#     Pkg.add(\"YaoPlots\")\n",
    "\n",
    "using Yao,YaoPlots,LinearAlgebra"
   ]
  },
  {
   "cell_type": "markdown",
   "id": "hourly-bumper",
   "metadata": {},
   "source": [
    "# Quantum Fourier Transform "
   ]
  },
  {
   "cell_type": "markdown",
   "id": "floral-thought",
   "metadata": {},
   "source": [
    "shift gate $${\\rm shift}(\\theta) = \\left(\\begin{array}{cc} 1 & 0 \\\\ 0 & e^{i\\theta} \\end{array}\\right)$$"
   ]
  },
  {
   "cell_type": "code",
   "execution_count": null,
   "id": "facial-relief",
   "metadata": {},
   "outputs": [],
   "source": [
    "controlR(k) = control(k, 1=>label(shift(2π/2^k),\"R($k)\"))\n",
    "qftblock(b) = chain(b, put(1=>H), chain(controlR(k) for k in 2:b))\n",
    "qft(n) = chain(n, \n",
    "    chain(put(k:n => qftblock(n-k+1)) for k in 1:n),\n",
    "    chain(swap(k,n-k+1) for k in Int.(1:(n/2)))\n",
    ")\n",
    "\n",
    "plot(qft(5))"
   ]
  },
  {
   "cell_type": "markdown",
   "id": "facial-jackson",
   "metadata": {},
   "source": [
    "# Phase Estimation"
   ]
  },
  {
   "cell_type": "markdown",
   "id": "operating-canon",
   "metadata": {},
   "source": [
    "We define $U(i) = U^{2^i}$ as a composition of $2^i$ gates $U$"
   ]
  },
  {
   "cell_type": "code",
   "execution_count": 1,
   "id": "grateful-complexity",
   "metadata": {},
   "outputs": [
    {
     "ename": "LoadError",
     "evalue": "UndefVarError: rand_unitary not defined",
     "output_type": "error",
     "traceback": [
      "UndefVarError: rand_unitary not defined",
      "",
      "Stacktrace:",
      " [1] top-level scope",
      "   @ In[1]:6",
      " [2] eval",
      "   @ ./boot.jl:360 [inlined]",
      " [3] include_string(mapexpr::typeof(REPL.softscope), mod::Module, code::String, filename::String)",
      "   @ Base ./loading.jl:1094"
     ]
    }
   ],
   "source": [
    "ublock(i,n,p,U) = chain(\n",
    "    put(p-i=>H),\n",
    "    control(p-i, p+1:p+n => label(matblock(U^(2^i)), \"U($i)\"))\n",
    ")\n",
    "ucircuit(n,p,U) = chain(n+p, ublock(i-1,n,p,U) for i in 1:p)\n",
    "plot(ucircuit(2,4,rand_unitary(2^2)))"
   ]
  },
  {
   "cell_type": "markdown",
   "id": "hundred-rubber",
   "metadata": {},
   "source": [
    "### Full Phase Estimation circuit"
   ]
  },
  {
   "cell_type": "code",
   "execution_count": 2,
   "id": "worthy-rehabilitation",
   "metadata": {},
   "outputs": [
    {
     "ename": "LoadError",
     "evalue": "UndefVarError: rand_unitary not defined",
     "output_type": "error",
     "traceback": [
      "UndefVarError: rand_unitary not defined",
      "",
      "Stacktrace:",
      " [1] top-level scope",
      "   @ In[2]:2",
      " [2] eval",
      "   @ ./boot.jl:360 [inlined]",
      " [3] include_string(mapexpr::typeof(REPL.softscope), mod::Module, code::String, filename::String)",
      "   @ Base ./loading.jl:1094"
     ]
    }
   ],
   "source": [
    "pecircuit(n,p,U) = chain(ucircuit(n,p,U), put(1:p => qft(p)'))\n",
    "plot(pecircuit(2,4,rand_unitary(2^2)))"
   ]
  },
  {
   "cell_type": "markdown",
   "id": "literary-trainer",
   "metadata": {},
   "source": [
    "# Run the experiment"
   ]
  },
  {
   "cell_type": "markdown",
   "id": "sporting-geneva",
   "metadata": {},
   "source": [
    "Construct a random $n$-qubit unitary matrix $U$ with eigenvalues $e^{2\\pi i \\frac{k}{2^{p}}}$ for integers $k$ and $p$. The precision $p$ refers to the number of bits necessary to describe the phase"
   ]
  },
  {
   "cell_type": "code",
   "execution_count": 3,
   "id": "surgical-sector",
   "metadata": {},
   "outputs": [
    {
     "data": {
      "text/plain": [
       "4-element Vector{Int64}:\n",
       " 14\n",
       "  6\n",
       " 13\n",
       "  1"
      ]
     },
     "execution_count": 3,
     "metadata": {},
     "output_type": "execute_result"
    }
   ],
   "source": [
    "p = 4\n",
    "n = 2\n",
    "\n",
    "eigenvalues = [rand(0:2^p-1) for k in 1:2^n]"
   ]
  },
  {
   "cell_type": "code",
   "execution_count": 4,
   "id": "confidential-stationery",
   "metadata": {},
   "outputs": [
    {
     "ename": "LoadError",
     "evalue": "UndefVarError: rand_unitary not defined",
     "output_type": "error",
     "traceback": [
      "UndefVarError: rand_unitary not defined",
      "",
      "Stacktrace:",
      " [1] top-level scope",
      "   @ In[4]:1",
      " [2] eval",
      "   @ ./boot.jl:360 [inlined]",
      " [3] include_string(mapexpr::typeof(REPL.softscope), mod::Module, code::String, filename::String)",
      "   @ Base ./loading.jl:1094"
     ]
    }
   ],
   "source": [
    "V = rand_unitary(2^n)\n",
    "U = V*Diagonal(map(k-> exp(2π*1im*k/2^p), eigenvalues))*V'"
   ]
  },
  {
   "cell_type": "code",
   "execution_count": 23,
   "id": "executed-dubai",
   "metadata": {},
   "outputs": [
    {
     "data": {
      "text/plain": [
       "ArrayReg{1, ComplexF64, Array...}\n",
       "    active qubits: 6/6"
      ]
     },
     "execution_count": 23,
     "metadata": {},
     "output_type": "execute_result"
    }
   ],
   "source": [
    "ψ = zero_state(n+p) |> pecircuit(n,p,U)"
   ]
  },
  {
   "cell_type": "code",
   "execution_count": 1,
   "id": "first-grocery",
   "metadata": {},
   "outputs": [
    {
     "ename": "LoadError",
     "evalue": "UndefVarError: p not defined",
     "output_type": "error",
     "traceback": [
      "UndefVarError: p not defined",
      "",
      "Stacktrace:",
      " [1] top-level scope",
      "   @ In[1]:3",
      " [2] eval",
      "   @ ./boot.jl:360 [inlined]",
      " [3] include_string(mapexpr::typeof(REPL.softscope), mod::Module, code::String, filename::String)",
      "   @ Base ./loading.jl:1094"
     ]
    }
   ],
   "source": [
    "using Plots: bar\n",
    "\n",
    "\n",
    "reversebits(x,p) = parse(Int,*(string.(digits(x; base=2,pad=p))...); base=2)\n",
    "\n",
    "probs = measure(ψ,1:p,  nshots=10000)\n",
    "counts = [(reversebits(i,p), count(==(i),Int.(probs))) for i=0:2^p-1]\n",
    "\n",
    "bar(counts)"
   ]
  },
  {
   "cell_type": "code",
   "execution_count": 27,
   "id": "fifth-quest",
   "metadata": {},
   "outputs": [
    {
     "data": {
      "text/plain": [
       "4-element Vector{Int64}:\n",
       "  5\n",
       "  7\n",
       " 10\n",
       " 11"
      ]
     },
     "execution_count": 27,
     "metadata": {},
     "output_type": "execute_result"
    }
   ],
   "source": [
    "sort(eigenvalues)"
   ]
  },
  {
   "cell_type": "code",
   "execution_count": 2,
   "id": "backed-pixel",
   "metadata": {},
   "outputs": [
    {
     "name": "stdout",
     "output_type": "stream",
     "text": [
      "search: \u001b[0m\u001b[1mb\u001b[22m\u001b[0m\u001b[1mi\u001b[22m\u001b[0m\u001b[1mt\u001b[22m\u001b[0m\u001b[1mr\u001b[22m\u001b[0m\u001b[1me\u001b[22m\u001b[0m\u001b[1mv\u001b[22m\u001b[0m\u001b[1me\u001b[22m\u001b[0m\u001b[1mr\u001b[22m\u001b[0m\u001b[1ms\u001b[22m\u001b[0m\u001b[1me\u001b[22m\n",
      "\n"
     ]
    },
    {
     "data": {
      "text/latex": [
       "\\begin{verbatim}\n",
       "bitreverse(x)\n",
       "\\end{verbatim}\n",
       "Reverse the order of bits in integer \\texttt{x}. \\texttt{x} must have a fixed bit width, e.g. be an \\texttt{Int16} or \\texttt{Int32}.\n",
       "\n",
       "\\begin{quote}\n",
       "\\textbf{compat}\n",
       "\n",
       "Julia 1.5\n",
       "\n",
       "This function requires Julia 1.5 or later.\n",
       "\n",
       "\\end{quote}\n",
       "\\section{Examples}\n",
       "\\begin{verbatim}\n",
       "julia> bitreverse(0x8080808080808080)\n",
       "0x0101010101010101\n",
       "\n",
       "julia> reverse(bitstring(0xa06e)) == bitstring(bitreverse(0xa06e))\n",
       "true\n",
       "\\end{verbatim}\n"
      ],
      "text/markdown": [
       "```\n",
       "bitreverse(x)\n",
       "```\n",
       "\n",
       "Reverse the order of bits in integer `x`. `x` must have a fixed bit width, e.g. be an `Int16` or `Int32`.\n",
       "\n",
       "!!! compat \"Julia 1.5\"\n",
       "    This function requires Julia 1.5 or later.\n",
       "\n",
       "\n",
       "# Examples\n",
       "\n",
       "```jldoctest\n",
       "julia> bitreverse(0x8080808080808080)\n",
       "0x0101010101010101\n",
       "\n",
       "julia> reverse(bitstring(0xa06e)) == bitstring(bitreverse(0xa06e))\n",
       "true\n",
       "```\n"
      ],
      "text/plain": [
       "\u001b[36m  bitreverse(x)\u001b[39m\n",
       "\n",
       "  Reverse the order of bits in integer \u001b[36mx\u001b[39m. \u001b[36mx\u001b[39m must have a fixed bit width, e.g.\n",
       "  be an \u001b[36mInt16\u001b[39m or \u001b[36mInt32\u001b[39m.\n",
       "\n",
       "\u001b[39m\u001b[1m  │ \u001b[22m\u001b[39m\u001b[1mJulia 1.5\u001b[22m\n",
       "\u001b[39m\u001b[1m  │\u001b[22m\n",
       "\u001b[39m\u001b[1m  │\u001b[22m  This function requires Julia 1.5 or later.\n",
       "\n",
       "\u001b[1m  Examples\u001b[22m\n",
       "\u001b[1m  ≡≡≡≡≡≡≡≡≡≡\u001b[22m\n",
       "\n",
       "\u001b[36m  julia> bitreverse(0x8080808080808080)\u001b[39m\n",
       "\u001b[36m  0x0101010101010101\u001b[39m\n",
       "\u001b[36m  \u001b[39m\n",
       "\u001b[36m  julia> reverse(bitstring(0xa06e)) == bitstring(bitreverse(0xa06e))\u001b[39m\n",
       "\u001b[36m  true\u001b[39m"
      ]
     },
     "execution_count": 2,
     "metadata": {},
     "output_type": "execute_result"
    }
   ],
   "source": [
    "?bitreverse"
   ]
  },
  {
   "cell_type": "code",
   "execution_count": 4,
   "id": "suited-student",
   "metadata": {},
   "outputs": [
    {
     "data": {
      "text/latex": [
       "\\begin{verbatim}\n",
       "bitstring(n)\n",
       "\\end{verbatim}\n",
       "A string giving the literal bit representation of a number.\n",
       "\n",
       "\\section{Examples}\n",
       "\\begin{verbatim}\n",
       "julia> bitstring(4)\n",
       "\"0000000000000000000000000000000000000000000000000000000000000100\"\n",
       "\n",
       "julia> bitstring(2.2)\n",
       "\"0100000000000001100110011001100110011001100110011001100110011010\"\n",
       "\\end{verbatim}\n"
      ],
      "text/markdown": [
       "```\n",
       "bitstring(n)\n",
       "```\n",
       "\n",
       "A string giving the literal bit representation of a number.\n",
       "\n",
       "# Examples\n",
       "\n",
       "```jldoctest\n",
       "julia> bitstring(4)\n",
       "\"0000000000000000000000000000000000000000000000000000000000000100\"\n",
       "\n",
       "julia> bitstring(2.2)\n",
       "\"0100000000000001100110011001100110011001100110011001100110011010\"\n",
       "```\n"
      ],
      "text/plain": [
       "\u001b[36m  bitstring(n)\u001b[39m\n",
       "\n",
       "  A string giving the literal bit representation of a number.\n",
       "\n",
       "\u001b[1m  Examples\u001b[22m\n",
       "\u001b[1m  ≡≡≡≡≡≡≡≡≡≡\u001b[22m\n",
       "\n",
       "\u001b[36m  julia> bitstring(4)\u001b[39m\n",
       "\u001b[36m  \"0000000000000000000000000000000000000000000000000000000000000100\"\u001b[39m\n",
       "\u001b[36m  \u001b[39m\n",
       "\u001b[36m  julia> bitstring(2.2)\u001b[39m\n",
       "\u001b[36m  \"0100000000000001100110011001100110011001100110011001100110011010\"\u001b[39m"
      ]
     },
     "execution_count": 4,
     "metadata": {},
     "output_type": "execute_result"
    }
   ],
   "source": [
    "?bitstring(14)"
   ]
  },
  {
   "cell_type": "code",
   "execution_count": 5,
   "id": "living-hundred",
   "metadata": {},
   "outputs": [
    {
     "name": "stdout",
     "output_type": "stream",
     "text": [
      "search: \u001b[0m\u001b[1mb\u001b[22m\u001b[0m\u001b[1mi\u001b[22m\u001b[0m\u001b[1mt\u001b[22m\u001b[0m\u001b[1mr\u001b[22m\u001b[0m\u001b[1mo\u001b[22m\u001b[0m\u001b[1mt\u001b[22m\u001b[0m\u001b[1ma\u001b[22m\u001b[0m\u001b[1mt\u001b[22m\u001b[0m\u001b[1me\u001b[22m\n",
      "\n"
     ]
    },
    {
     "data": {
      "text/latex": [
       "\\begin{verbatim}\n",
       "bitrotate(x::Base.BitInteger, k::Integer)\n",
       "\\end{verbatim}\n",
       "\\texttt{bitrotate(x, k)} implements bitwise rotation. It returns the value of \\texttt{x} with its bits rotated left \\texttt{k} times. A negative value of \\texttt{k} will rotate to the right instead.\n",
       "\n",
       "\\begin{quote}\n",
       "\\textbf{compat}\n",
       "\n",
       "Julia 1.5\n",
       "\n",
       "This function requires Julia 1.5 or later.\n",
       "\n",
       "\\end{quote}\n",
       "\\begin{verbatim}\n",
       "julia> bitrotate(UInt8(114), 2)\n",
       "0xc9\n",
       "\n",
       "julia> bitstring(bitrotate(0b01110010, 2))\n",
       "\"11001001\"\n",
       "\n",
       "julia> bitstring(bitrotate(0b01110010, -2))\n",
       "\"10011100\"\n",
       "\n",
       "julia> bitstring(bitrotate(0b01110010, 8))\n",
       "\"01110010\"\n",
       "\\end{verbatim}\n"
      ],
      "text/markdown": [
       "```\n",
       "bitrotate(x::Base.BitInteger, k::Integer)\n",
       "```\n",
       "\n",
       "`bitrotate(x, k)` implements bitwise rotation. It returns the value of `x` with its bits rotated left `k` times. A negative value of `k` will rotate to the right instead.\n",
       "\n",
       "!!! compat \"Julia 1.5\"\n",
       "    This function requires Julia 1.5 or later.\n",
       "\n",
       "\n",
       "```jldoctest\n",
       "julia> bitrotate(UInt8(114), 2)\n",
       "0xc9\n",
       "\n",
       "julia> bitstring(bitrotate(0b01110010, 2))\n",
       "\"11001001\"\n",
       "\n",
       "julia> bitstring(bitrotate(0b01110010, -2))\n",
       "\"10011100\"\n",
       "\n",
       "julia> bitstring(bitrotate(0b01110010, 8))\n",
       "\"01110010\"\n",
       "```\n"
      ],
      "text/plain": [
       "\u001b[36m  bitrotate(x::Base.BitInteger, k::Integer)\u001b[39m\n",
       "\n",
       "  \u001b[36mbitrotate(x, k)\u001b[39m implements bitwise rotation. It returns the value of \u001b[36mx\u001b[39m with\n",
       "  its bits rotated left \u001b[36mk\u001b[39m times. A negative value of \u001b[36mk\u001b[39m will rotate to the\n",
       "  right instead.\n",
       "\n",
       "\u001b[39m\u001b[1m  │ \u001b[22m\u001b[39m\u001b[1mJulia 1.5\u001b[22m\n",
       "\u001b[39m\u001b[1m  │\u001b[22m\n",
       "\u001b[39m\u001b[1m  │\u001b[22m  This function requires Julia 1.5 or later.\n",
       "\n",
       "\u001b[36m  julia> bitrotate(UInt8(114), 2)\u001b[39m\n",
       "\u001b[36m  0xc9\u001b[39m\n",
       "\u001b[36m  \u001b[39m\n",
       "\u001b[36m  julia> bitstring(bitrotate(0b01110010, 2))\u001b[39m\n",
       "\u001b[36m  \"11001001\"\u001b[39m\n",
       "\u001b[36m  \u001b[39m\n",
       "\u001b[36m  julia> bitstring(bitrotate(0b01110010, -2))\u001b[39m\n",
       "\u001b[36m  \"10011100\"\u001b[39m\n",
       "\u001b[36m  \u001b[39m\n",
       "\u001b[36m  julia> bitstring(bitrotate(0b01110010, 8))\u001b[39m\n",
       "\u001b[36m  \"01110010\"\u001b[39m"
      ]
     },
     "execution_count": 5,
     "metadata": {},
     "output_type": "execute_result"
    }
   ],
   "source": [
    "?bitrotate"
   ]
  },
  {
   "cell_type": "code",
   "execution_count": 8,
   "id": "diverse-hazard",
   "metadata": {},
   "outputs": [
    {
     "data": {
      "text/plain": [
       "53"
      ]
     },
     "execution_count": 8,
     "metadata": {},
     "output_type": "execute_result"
    }
   ],
   "source": [
    "parse(Int,*(string.(digits()))\"0110101\";base=2)"
   ]
  },
  {
   "cell_type": "code",
   "execution_count": 9,
   "id": "gorgeous-judgment",
   "metadata": {},
   "outputs": [
    {
     "ename": "LoadError",
     "evalue": "UndefVarError: _digits not defined",
     "output_type": "error",
     "traceback": [
      "UndefVarError: _digits not defined",
      "",
      "Stacktrace:",
      " [1] top-level scope",
      "   @ :0",
      " [2] eval",
      "   @ ./boot.jl:360 [inlined]",
      " [3] include_string(mapexpr::typeof(REPL.softscope), mod::Module, code::String, filename::String)",
      "   @ Base ./loading.jl:1094"
     ]
    }
   ],
   "source": [
    "_digits"
   ]
  },
  {
   "cell_type": "code",
   "execution_count": 16,
   "id": "classified-telling",
   "metadata": {},
   "outputs": [
    {
     "data": {
      "text/plain": [
       "14"
      ]
     },
     "execution_count": 16,
     "metadata": {},
     "output_type": "execute_result"
    }
   ],
   "source": [
    "parse(Int,*(string.(reverse(digits(14;base=2,pad=4)))...); base=2)"
   ]
  },
  {
   "cell_type": "code",
   "execution_count": 18,
   "id": "generic-archive",
   "metadata": {},
   "outputs": [
    {
     "data": {
      "text/plain": [
       "4"
      ]
     },
     "execution_count": 18,
     "metadata": {},
     "output_type": "execute_result"
    }
   ],
   "source": [
    "\n",
    "parse(Int,*(string.(digits(2;base=2,pad=4))...); base=2)2"
   ]
  },
  {
   "cell_type": "code",
   "execution_count": null,
   "id": "pursuant-porter",
   "metadata": {},
   "outputs": [],
   "source": []
  }
 ],
 "metadata": {
  "kernelspec": {
   "display_name": "Julia 1.6.0",
   "language": "julia",
   "name": "julia-1.6"
  },
  "language_info": {
   "file_extension": ".jl",
   "mimetype": "application/julia",
   "name": "julia",
   "version": "1.6.0"
  }
 },
 "nbformat": 4,
 "nbformat_minor": 5
}
