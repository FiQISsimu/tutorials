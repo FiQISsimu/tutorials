{
 "cells": [
  {
   "cell_type": "code",
   "execution_count": 1,
   "id": "e503b862",
   "metadata": {},
   "outputs": [],
   "source": [
    "include(\"../yaoimport.jl\");"
   ]
  },
  {
   "cell_type": "markdown",
   "id": "f3e9fdc5",
   "metadata": {},
   "source": [
    "# create a maximally entangled Bell state"
   ]
  },
  {
   "cell_type": "code",
   "execution_count": 2,
   "id": "b68ef55f",
   "metadata": {},
   "outputs": [
    {
     "data": {
      "text/plain": [
       "4×1 Matrix{ComplexF64}:\n",
       " 0.7071067811865475 + 0.0im\n",
       "                0.0 + 0.0im\n",
       "                0.0 + 0.0im\n",
       " 0.7071067811865475 + 0.0im"
      ]
     },
     "execution_count": 2,
     "metadata": {},
     "output_type": "execute_result"
    }
   ],
   "source": [
    "Φcircuit = chain(2, \n",
    "    put(1=>H), \n",
    "    control(1, 2=>X)\n",
    ")\n",
    "Φ = zero_state(2) |> Φcircuit\n",
    "state(Φ)"
   ]
  },
  {
   "cell_type": "code",
   "execution_count": 3,
   "id": "c35be899",
   "metadata": {},
   "outputs": [
    {
     "data": {
      "image/svg+xml": [
       "<?xml version=\"1.0\" encoding=\"UTF-8\"?>\n",
       "<svg xmlns=\"http://www.w3.org/2000/svg\"\n",
       "     xmlns:xlink=\"http://www.w3.org/1999/xlink\"\n",
       "     version=\"1.2\"\n",
       "     width=\"240mm\" height=\"80mm\" viewBox=\"0 0 240 80\"\n",
       "     stroke=\"none\"\n",
       "     fill=\"#000000\"\n",
       "     stroke-width=\"0.3\"\n",
       "     font-size=\"3.88\"\n",
       ">\n",
       "<defs>\n",
       "  <marker id=\"arrow\" markerWidth=\"15\" markerHeight=\"7\" refX=\"5\" refY=\"3.5\" orient=\"auto\" markerUnits=\"strokeWidth\">\n",
       "    <path d=\"M0,0 L15,3.5 L0,7 z\" stroke=\"context-stroke\" fill=\"context-stroke\"/>\n",
       "  </marker>\n",
       "</defs>\n",
       "<g stroke-width=\"0.35\" stroke=\"#3283A8\" id=\"img-88ca3590-1\">\n",
       "  <g transform=\"translate(65.29,13.33)\">\n",
       "    <path fill=\"none\" d=\"M30,0 L-30,0 \" class=\"primitive\"/>\n",
       "  </g>\n",
       "  <g transform=\"translate(155.29,33.33)\">\n",
       "    <path fill=\"none\" d=\"M0,20 L0,-20 \" class=\"primitive\"/>\n",
       "  </g>\n",
       "  <g transform=\"translate(125.29,13.33)\">\n",
       "    <path fill=\"none\" d=\"M30,0 L-30,0 \" class=\"primitive\"/>\n",
       "  </g>\n",
       "  <g transform=\"translate(95.29,53.33)\">\n",
       "    <path fill=\"none\" d=\"M60,0 L-60,0 \" class=\"primitive\"/>\n",
       "  </g>\n",
       "  <g transform=\"translate(185.29,13.33)\">\n",
       "    <path fill=\"none\" d=\"M30,0 L-30,0 \" class=\"primitive\"/>\n",
       "  </g>\n",
       "  <g transform=\"translate(185.29,53.33)\">\n",
       "    <path fill=\"none\" d=\"M30,0 L-30,0 \" class=\"primitive\"/>\n",
       "  </g>\n",
       "</g>\n",
       "<g stroke-width=\"0.35\" stroke=\"#3283A8\" id=\"img-88ca3590-2\">\n",
       "  <g transform=\"translate(155.29,53.33)\">\n",
       "    <path d=\"M0,-10.67 L0,10.67  z\" class=\"primitive\"/>\n",
       "  </g>\n",
       "</g>\n",
       "<g stroke-width=\"0.35\" stroke=\"#3283A8\" id=\"img-88ca3590-3\">\n",
       "  <g transform=\"translate(155.29,53.33)\">\n",
       "    <path d=\"M-14.12,0 L14.12,0  z\" class=\"primitive\"/>\n",
       "  </g>\n",
       "</g>\n",
       "<g fill=\"#000000\" fill-opacity=\"0.000\" stroke-width=\"0.35\" stroke=\"#3283A8\" id=\"img-88ca3590-4\">\n",
       "  <g transform=\"translate(155.29,53.33)\">\n",
       "    <circle cx=\"0\" cy=\"0\" r=\"14.12\" class=\"primitive\"/>\n",
       "  </g>\n",
       "</g>\n",
       "<g stroke-width=\"0\" fill=\"#3283A8\" id=\"img-88ca3590-5\">\n",
       "  <g transform=\"translate(155.29,13.33)\">\n",
       "    <circle cx=\"0\" cy=\"0\" r=\"4.71\" class=\"primitive\"/>\n",
       "  </g>\n",
       "</g>\n",
       "<g stroke-width=\"0.35\" stroke=\"#3283A8\" fill=\"#FFFFFF\" id=\"img-88ca3590-6\">\n",
       "  <g transform=\"translate(95.29,13.33)\">\n",
       "    <path d=\"M-14.12,-10.67 L14.12,-10.67 14.12,10.67 -14.12,10.67  z\" class=\"primitive\"/>\n",
       "  </g>\n",
       "</g>\n",
       "<g font-family=\"Helvetica Neue\" fill=\"#3283A8\" font-size=\"5.64\" id=\"img-88ca3590-7\">\n",
       "  <g transform=\"translate(95.29,13.33)\">\n",
       "    <g class=\"primitive\">\n",
       "      <text text-anchor=\"middle\" dy=\"0.35em\">H</text>\n",
       "    </g>\n",
       "  </g>\n",
       "</g>\n",
       "</svg>\n"
      ]
     },
     "metadata": {},
     "output_type": "display_data"
    }
   ],
   "source": [
    "svgplot(Φcircuit)"
   ]
  },
  {
   "cell_type": "markdown",
   "id": "681530f1",
   "metadata": {},
   "source": [
    "# define the teleportation circuit"
   ]
  },
  {
   "cell_type": "code",
   "execution_count": 4,
   "id": "27e013e8",
   "metadata": {},
   "outputs": [
    {
     "data": {
      "image/svg+xml": [
       "<?xml version=\"1.0\" encoding=\"UTF-8\"?>\n",
       "<svg xmlns=\"http://www.w3.org/2000/svg\"\n",
       "     xmlns:xlink=\"http://www.w3.org/1999/xlink\"\n",
       "     version=\"1.2\"\n",
       "     width=\"240mm\" height=\"80mm\" viewBox=\"0 0 240 80\"\n",
       "     stroke=\"none\"\n",
       "     fill=\"#000000\"\n",
       "     stroke-width=\"0.3\"\n",
       "     font-size=\"3.88\"\n",
       ">\n",
       "<defs>\n",
       "  <marker id=\"arrow\" markerWidth=\"15\" markerHeight=\"7\" refX=\"5\" refY=\"3.5\" orient=\"auto\" markerUnits=\"strokeWidth\">\n",
       "    <path d=\"M0,0 L15,3.5 L0,7 z\" stroke=\"context-stroke\" fill=\"context-stroke\"/>\n",
       "  </marker>\n",
       "</defs>\n",
       "<g stroke-width=\"0.35\" stroke=\"#3283A8\" id=\"img-078154d6-1\">\n",
       "  <g transform=\"translate(76.24,22.22)\">\n",
       "    <path fill=\"none\" d=\"M0,13.33 L0,-13.33 \" class=\"primitive\"/>\n",
       "  </g>\n",
       "  <g transform=\"translate(52.24,8.89)\">\n",
       "    <path fill=\"none\" d=\"M24,0 L-24,0 \" class=\"primitive\"/>\n",
       "  </g>\n",
       "  <g transform=\"translate(52.24,35.56)\">\n",
       "    <path fill=\"none\" d=\"M24,0 L-24,0 \" class=\"primitive\"/>\n",
       "  </g>\n",
       "  <g transform=\"translate(100.24,8.89)\">\n",
       "    <path fill=\"none\" d=\"M24,0 L-24,0 \" class=\"primitive\"/>\n",
       "  </g>\n",
       "  <g transform=\"translate(124.24,48.89)\">\n",
       "    <path fill=\"none\" d=\"M0,13.33 L0,-13.33 \" class=\"primitive\"/>\n",
       "  </g>\n",
       "  <g transform=\"translate(100.24,35.56)\">\n",
       "    <path fill=\"none\" d=\"M24,0 L-24,0 \" class=\"primitive\"/>\n",
       "  </g>\n",
       "  <g transform=\"translate(76.24,62.22)\">\n",
       "    <path fill=\"none\" d=\"M48,0 L-48,0 \" class=\"primitive\"/>\n",
       "  </g>\n",
       "  <g transform=\"translate(172.24,35.56)\">\n",
       "    <path fill=\"none\" d=\"M0,26.67 L0,-26.67 \" class=\"primitive\"/>\n",
       "  </g>\n",
       "  <g transform=\"translate(148.24,8.89)\">\n",
       "    <path fill=\"none\" d=\"M24,0 L-24,0 \" class=\"primitive\"/>\n",
       "  </g>\n",
       "  <g transform=\"translate(148.24,35.56)\">\n",
       "    <path fill=\"none\" d=\"M24,0 L-24,0 \" class=\"primitive\"/>\n",
       "  </g>\n",
       "  <g transform=\"translate(148.24,62.22)\">\n",
       "    <path fill=\"none\" d=\"M24,0 L-24,0 \" class=\"primitive\"/>\n",
       "  </g>\n",
       "  <g transform=\"translate(196.24,8.89)\">\n",
       "    <path fill=\"none\" d=\"M24,0 L-24,0 \" class=\"primitive\"/>\n",
       "  </g>\n",
       "  <g transform=\"translate(196.24,35.56)\">\n",
       "    <path fill=\"none\" d=\"M24,0 L-24,0 \" class=\"primitive\"/>\n",
       "  </g>\n",
       "  <g transform=\"translate(196.24,62.22)\">\n",
       "    <path fill=\"none\" d=\"M24,0 L-24,0 \" class=\"primitive\"/>\n",
       "  </g>\n",
       "</g>\n",
       "<g stroke-width=\"0.35\" stroke=\"#3283A8\" fill=\"#FFFFFF\" id=\"img-078154d6-2\">\n",
       "  <g transform=\"translate(124.24,8.89)\">\n",
       "    <path d=\"M-11.29,-7.11 L11.29,-7.11 11.29,7.11 -11.29,7.11  z\" class=\"primitive\"/>\n",
       "  </g>\n",
       "</g>\n",
       "<g stroke-width=\"0.35\" stroke=\"#3283A8\" id=\"img-078154d6-3\">\n",
       "  <g transform=\"translate(76.24,35.56)\">\n",
       "    <path d=\"M0,-7.11 L0,7.11  z\" class=\"primitive\"/>\n",
       "  </g>\n",
       "  <g transform=\"translate(124.24,62.22)\">\n",
       "    <path d=\"M0,-7.11 L0,7.11  z\" class=\"primitive\"/>\n",
       "  </g>\n",
       "</g>\n",
       "<g stroke-width=\"0.35\" stroke=\"#3283A8\" id=\"img-078154d6-4\">\n",
       "  <g transform=\"translate(76.24,35.56)\">\n",
       "    <path d=\"M-11.29,0 L11.29,0  z\" class=\"primitive\"/>\n",
       "  </g>\n",
       "  <g transform=\"translate(124.24,62.22)\">\n",
       "    <path d=\"M-11.29,0 L11.29,0  z\" class=\"primitive\"/>\n",
       "  </g>\n",
       "</g>\n",
       "<g fill=\"#000000\" fill-opacity=\"0.000\" stroke-width=\"0.35\" stroke=\"#3283A8\" id=\"img-078154d6-5\">\n",
       "  <g transform=\"translate(76.24,35.56)\">\n",
       "    <circle cx=\"0\" cy=\"0\" r=\"11.29\" class=\"primitive\"/>\n",
       "  </g>\n",
       "  <g transform=\"translate(124.24,62.22)\">\n",
       "    <circle cx=\"0\" cy=\"0\" r=\"11.29\" class=\"primitive\"/>\n",
       "  </g>\n",
       "</g>\n",
       "<g stroke-width=\"0\" fill=\"#3283A8\" id=\"img-078154d6-6\">\n",
       "  <g transform=\"translate(76.24,8.89)\">\n",
       "    <circle cx=\"0\" cy=\"0\" r=\"3.76\" class=\"primitive\"/>\n",
       "  </g>\n",
       "  <g transform=\"translate(124.24,35.56)\">\n",
       "    <circle cx=\"0\" cy=\"0\" r=\"3.76\" class=\"primitive\"/>\n",
       "  </g>\n",
       "  <g transform=\"translate(172.24,8.89)\">\n",
       "    <circle cx=\"0\" cy=\"0\" r=\"3.76\" class=\"primitive\"/>\n",
       "  </g>\n",
       "  <g transform=\"translate(172.24,62.22)\">\n",
       "    <circle cx=\"0\" cy=\"0\" r=\"3.76\" class=\"primitive\"/>\n",
       "  </g>\n",
       "</g>\n",
       "<g font-family=\"Helvetica Neue\" fill=\"#3283A8\" font-size=\"5.64\" id=\"img-078154d6-7\">\n",
       "  <g transform=\"translate(124.24,8.89)\">\n",
       "    <g class=\"primitive\">\n",
       "      <text text-anchor=\"middle\" dy=\"0.35em\">H</text>\n",
       "    </g>\n",
       "  </g>\n",
       "</g>\n",
       "</svg>\n"
      ]
     },
     "metadata": {},
     "output_type": "display_data"
    }
   ],
   "source": [
    "tele = chain(3,\n",
    "    control(1, 2=>X),\n",
    "    put(1=>H),\n",
    "    control(2,3=>X),\n",
    "    control(1,3=>Z),\n",
    ")\n",
    "svgplot(tele)"
   ]
  },
  {
   "cell_type": "markdown",
   "id": "13c27fa6",
   "metadata": {},
   "source": [
    " total circuit"
   ]
  },
  {
   "cell_type": "code",
   "execution_count": 5,
   "id": "0d582e1d",
   "metadata": {},
   "outputs": [
    {
     "data": {
      "image/svg+xml": [
       "<?xml version=\"1.0\" encoding=\"UTF-8\"?>\n",
       "<svg xmlns=\"http://www.w3.org/2000/svg\"\n",
       "     xmlns:xlink=\"http://www.w3.org/1999/xlink\"\n",
       "     version=\"1.2\"\n",
       "     width=\"240mm\" height=\"80mm\" viewBox=\"0 0 240 80\"\n",
       "     stroke=\"none\"\n",
       "     fill=\"#000000\"\n",
       "     stroke-width=\"0.3\"\n",
       "     font-size=\"3.88\"\n",
       ">\n",
       "<defs>\n",
       "  <marker id=\"arrow\" markerWidth=\"15\" markerHeight=\"7\" refX=\"5\" refY=\"3.5\" orient=\"auto\" markerUnits=\"strokeWidth\">\n",
       "    <path d=\"M0,0 L15,3.5 L0,7 z\" stroke=\"context-stroke\" fill=\"context-stroke\"/>\n",
       "  </marker>\n",
       "</defs>\n",
       "<g stroke-width=\"0.35\" stroke=\"#3283A8\" id=\"img-d5e41001-1\">\n",
       "  <g transform=\"translate(37.31,35.56)\">\n",
       "    <path fill=\"none\" d=\"M17.14,0 L-17.14,0 \" class=\"primitive\"/>\n",
       "  </g>\n",
       "  <g transform=\"translate(88.74,48.89)\">\n",
       "    <path fill=\"none\" d=\"M0,13.33 L0,-13.33 \" class=\"primitive\"/>\n",
       "  </g>\n",
       "  <g transform=\"translate(71.6,35.56)\">\n",
       "    <path fill=\"none\" d=\"M17.14,0 L-17.14,0 \" class=\"primitive\"/>\n",
       "  </g>\n",
       "  <g transform=\"translate(54.45,62.22)\">\n",
       "    <path fill=\"none\" d=\"M34.29,0 L-34.29,0 \" class=\"primitive\"/>\n",
       "  </g>\n",
       "  <g transform=\"translate(123.03,22.22)\">\n",
       "    <path fill=\"none\" d=\"M0,13.33 L0,-13.33 \" class=\"primitive\"/>\n",
       "  </g>\n",
       "  <g transform=\"translate(71.6,8.89)\">\n",
       "    <path fill=\"none\" d=\"M51.43,0 L-51.43,0 \" class=\"primitive\"/>\n",
       "  </g>\n",
       "  <g transform=\"translate(105.88,35.56)\">\n",
       "    <path fill=\"none\" d=\"M17.14,0 L-17.14,0 \" class=\"primitive\"/>\n",
       "  </g>\n",
       "  <g transform=\"translate(140.17,8.89)\">\n",
       "    <path fill=\"none\" d=\"M17.14,0 L-17.14,0 \" class=\"primitive\"/>\n",
       "  </g>\n",
       "  <g transform=\"translate(157.31,48.89)\">\n",
       "    <path fill=\"none\" d=\"M0,13.33 L0,-13.33 \" class=\"primitive\"/>\n",
       "  </g>\n",
       "  <g transform=\"translate(140.17,35.56)\">\n",
       "    <path fill=\"none\" d=\"M17.14,0 L-17.14,0 \" class=\"primitive\"/>\n",
       "  </g>\n",
       "  <g transform=\"translate(123.03,62.22)\">\n",
       "    <path fill=\"none\" d=\"M34.29,0 L-34.29,0 \" class=\"primitive\"/>\n",
       "  </g>\n",
       "  <g transform=\"translate(191.6,35.56)\">\n",
       "    <path fill=\"none\" d=\"M0,26.67 L0,-26.67 \" class=\"primitive\"/>\n",
       "  </g>\n",
       "  <g transform=\"translate(174.45,8.89)\">\n",
       "    <path fill=\"none\" d=\"M17.14,0 L-17.14,0 \" class=\"primitive\"/>\n",
       "  </g>\n",
       "  <g transform=\"translate(174.45,35.56)\">\n",
       "    <path fill=\"none\" d=\"M17.14,0 L-17.14,0 \" class=\"primitive\"/>\n",
       "  </g>\n",
       "  <g transform=\"translate(174.45,62.22)\">\n",
       "    <path fill=\"none\" d=\"M17.14,0 L-17.14,0 \" class=\"primitive\"/>\n",
       "  </g>\n",
       "  <g transform=\"translate(208.74,8.89)\">\n",
       "    <path fill=\"none\" d=\"M17.14,0 L-17.14,0 \" class=\"primitive\"/>\n",
       "  </g>\n",
       "  <g transform=\"translate(208.74,35.56)\">\n",
       "    <path fill=\"none\" d=\"M17.14,0 L-17.14,0 \" class=\"primitive\"/>\n",
       "  </g>\n",
       "  <g transform=\"translate(208.74,62.22)\">\n",
       "    <path fill=\"none\" d=\"M17.14,0 L-17.14,0 \" class=\"primitive\"/>\n",
       "  </g>\n",
       "</g>\n",
       "<g stroke-width=\"0.35\" stroke=\"#3283A8\" id=\"img-d5e41001-2\">\n",
       "  <g transform=\"translate(88.74,62.22)\">\n",
       "    <path d=\"M0,-7.11 L0,7.11  z\" class=\"primitive\"/>\n",
       "  </g>\n",
       "  <g transform=\"translate(123.03,35.56)\">\n",
       "    <path d=\"M0,-7.11 L0,7.11  z\" class=\"primitive\"/>\n",
       "  </g>\n",
       "  <g transform=\"translate(157.31,62.22)\">\n",
       "    <path d=\"M0,-7.11 L0,7.11  z\" class=\"primitive\"/>\n",
       "  </g>\n",
       "</g>\n",
       "<g stroke-width=\"0.35\" stroke=\"#3283A8\" id=\"img-d5e41001-3\">\n",
       "  <g transform=\"translate(88.74,62.22)\">\n",
       "    <path d=\"M-8.07,0 L8.07,0  z\" class=\"primitive\"/>\n",
       "  </g>\n",
       "  <g transform=\"translate(123.03,35.56)\">\n",
       "    <path d=\"M-8.07,0 L8.07,0  z\" class=\"primitive\"/>\n",
       "  </g>\n",
       "  <g transform=\"translate(157.31,62.22)\">\n",
       "    <path d=\"M-8.07,0 L8.07,0  z\" class=\"primitive\"/>\n",
       "  </g>\n",
       "</g>\n",
       "<g fill=\"#000000\" fill-opacity=\"0.000\" stroke-width=\"0.35\" stroke=\"#3283A8\" id=\"img-d5e41001-4\">\n",
       "  <g transform=\"translate(88.74,62.22)\">\n",
       "    <circle cx=\"0\" cy=\"0\" r=\"8.07\" class=\"primitive\"/>\n",
       "  </g>\n",
       "  <g transform=\"translate(123.03,35.56)\">\n",
       "    <circle cx=\"0\" cy=\"0\" r=\"8.07\" class=\"primitive\"/>\n",
       "  </g>\n",
       "  <g transform=\"translate(157.31,62.22)\">\n",
       "    <circle cx=\"0\" cy=\"0\" r=\"8.07\" class=\"primitive\"/>\n",
       "  </g>\n",
       "</g>\n",
       "<g stroke-width=\"0\" fill=\"#3283A8\" id=\"img-d5e41001-5\">\n",
       "  <g transform=\"translate(88.74,35.56)\">\n",
       "    <circle cx=\"0\" cy=\"0\" r=\"2.69\" class=\"primitive\"/>\n",
       "  </g>\n",
       "  <g transform=\"translate(123.03,8.89)\">\n",
       "    <circle cx=\"0\" cy=\"0\" r=\"2.69\" class=\"primitive\"/>\n",
       "  </g>\n",
       "  <g transform=\"translate(157.31,35.56)\">\n",
       "    <circle cx=\"0\" cy=\"0\" r=\"2.69\" class=\"primitive\"/>\n",
       "  </g>\n",
       "  <g transform=\"translate(191.6,8.89)\">\n",
       "    <circle cx=\"0\" cy=\"0\" r=\"2.69\" class=\"primitive\"/>\n",
       "  </g>\n",
       "  <g transform=\"translate(191.6,62.22)\">\n",
       "    <circle cx=\"0\" cy=\"0\" r=\"2.69\" class=\"primitive\"/>\n",
       "  </g>\n",
       "</g>\n",
       "<g stroke-width=\"0.35\" stroke=\"#3283A8\" fill=\"#FFFFFF\" id=\"img-d5e41001-6\">\n",
       "  <g transform=\"translate(54.45,35.56)\">\n",
       "    <path d=\"M-8.07,-7.11 L8.07,-7.11 8.07,7.11 -8.07,7.11  z\" class=\"primitive\"/>\n",
       "  </g>\n",
       "  <g transform=\"translate(157.31,8.89)\">\n",
       "    <path d=\"M-8.07,-7.11 L8.07,-7.11 8.07,7.11 -8.07,7.11  z\" class=\"primitive\"/>\n",
       "  </g>\n",
       "</g>\n",
       "<g font-family=\"Helvetica Neue\" fill=\"#3283A8\" font-size=\"5.64\" id=\"img-d5e41001-7\">\n",
       "  <g transform=\"translate(54.45,35.56)\">\n",
       "    <g class=\"primitive\">\n",
       "      <text text-anchor=\"middle\" dy=\"0.35em\">H</text>\n",
       "    </g>\n",
       "  </g>\n",
       "  <g transform=\"translate(157.31,8.89)\">\n",
       "    <g class=\"primitive\">\n",
       "      <text text-anchor=\"middle\" dy=\"0.35em\">H</text>\n",
       "    </g>\n",
       "  </g>\n",
       "</g>\n",
       "</svg>\n"
      ]
     },
     "metadata": {},
     "output_type": "display_data"
    }
   ],
   "source": [
    "chain(3, put(2:3 => Φcircuit), tele) |> svgplot"
   ]
  },
  {
   "cell_type": "markdown",
   "id": "cd24b7ed",
   "metadata": {},
   "source": [
    "# run teleportation"
   ]
  },
  {
   "cell_type": "code",
   "execution_count": 6,
   "id": "7ce32433",
   "metadata": {},
   "outputs": [
    {
     "data": {
      "text/plain": [
       "2×1 Matrix{ComplexF64}:\n",
       " 0.06792629615178038 + 0.4137280604342298im\n",
       " 0.03792192079546314 - 0.9070705806185169im"
      ]
     },
     "execution_count": 6,
     "metadata": {},
     "output_type": "execute_result"
    }
   ],
   "source": [
    "ψ = rand_state(1)\n",
    "state(ψ)"
   ]
  },
  {
   "cell_type": "code",
   "execution_count": 7,
   "id": "d3cf2c11",
   "metadata": {},
   "outputs": [
    {
     "data": {
      "text/plain": [
       "8×1 Matrix{ComplexF64}:\n",
       " 0.06792629615178036 + 0.4137280604342297im\n",
       "                 0.0 + 0.0im\n",
       "                 0.0 + 0.0im\n",
       "                 0.0 + 0.0im\n",
       " 0.03792192079546313 - 0.9070705806185168im\n",
       "                -0.0 - 0.0im\n",
       "                 0.0 + 0.0im\n",
       "                -0.0 - 0.0im"
      ]
     },
     "execution_count": 7,
     "metadata": {},
     "output_type": "execute_result"
    }
   ],
   "source": [
    "out = join(ψ,Φ) |> tele\n",
    "state(out)"
   ]
  },
  {
   "cell_type": "markdown",
   "id": "7e1fe5ba",
   "metadata": {},
   "source": [
    "discard qubits 1,2"
   ]
  },
  {
   "cell_type": "code",
   "execution_count": 8,
   "id": "1df56a56",
   "metadata": {},
   "outputs": [
    {
     "data": {
      "text/plain": [
       "2×1 Matrix{ComplexF64}:\n",
       " 0.06792629615178038 + 0.4137280604342298im\n",
       " 0.03792192079546314 - 0.907070580618517im"
      ]
     },
     "execution_count": 8,
     "metadata": {},
     "output_type": "execute_result"
    }
   ],
   "source": [
    "measure!(RemoveMeasured(), out, 1:2) \n",
    "state(out)"
   ]
  },
  {
   "cell_type": "code",
   "execution_count": null,
   "id": "26f6f81a",
   "metadata": {},
   "outputs": [],
   "source": []
  }
 ],
 "metadata": {
  "kernelspec": {
   "display_name": "Julia 1.7.1",
   "language": "julia",
   "name": "julia-1.7"
  },
  "language_info": {
   "file_extension": ".jl",
   "mimetype": "application/julia",
   "name": "julia",
   "version": "1.7.1"
  }
 },
 "nbformat": 4,
 "nbformat_minor": 5
}
